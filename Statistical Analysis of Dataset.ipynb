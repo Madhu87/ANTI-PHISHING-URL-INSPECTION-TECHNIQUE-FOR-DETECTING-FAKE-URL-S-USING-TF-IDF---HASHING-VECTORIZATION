{
 "cells": [
  {
   "cell_type": "code",
   "execution_count": 1,
   "metadata": {},
   "outputs": [],
   "source": [
    "import pandas as pd\n",
    "import numpy as np\n",
    "import matplotlib.pyplot as plt\n",
    "import seaborn as sns\n",
    "import urllib.parse"
   ]
  },
  {
   "cell_type": "code",
   "execution_count": 2,
   "metadata": {},
   "outputs": [
    {
     "name": "stdout",
     "output_type": "stream",
     "text": [
      "Bad samples: 44532\n",
      "Good samples: 1265974\n"
     ]
    }
   ],
   "source": [
    "with open('badqueries.txt','r', encoding=\"utf8\") as f:\n",
    "    data = f.readlines()\n",
    "data = list(set(data))\n",
    "bad_query_result = []\n",
    "\n",
    "#converting url encoded data to simple string\n",
    "for d in data:\n",
    "    d = str(urllib.parse.unquote(d))   \n",
    "    bad_query_result.append(d)\n",
    "\n",
    "with open('goodqueries.txt','r', encoding=\"utf8\") as f:\n",
    "    data = f.readlines()\n",
    "data = list(set(data))\n",
    "good_query_result = []\n",
    "\n",
    "#converting url encoded data to simple string\n",
    "for d in data:\n",
    "    d = str(urllib.parse.unquote(d))   \n",
    "    good_query_result.append(d)\n",
    "\n",
    "badQueries = bad_query_result\n",
    "validQueries = good_query_result\n",
    "\n",
    "badQueries = list(set(badQueries))\n",
    "validQueries = list(set(validQueries))\n",
    "allQueries = badQueries + validQueries\n",
    "\n",
    "#labels, 1 for malicious and 0 for clean\n",
    "yBad = [1 for i in range(0, len(badQueries))] \n",
    "yGood = [0 for i in range(0, len(validQueries))]\n",
    "y = yBad + yGood\n",
    "queries = allQueries\n",
    "\n",
    "badCount = len(badQueries)\n",
    "print(\"Bad samples: %d\" % badCount)\n",
    "validCount = len(validQueries)\n",
    "print(\"Good samples: %d\" % validCount)"
   ]
  }
 ],
 "metadata": {
  "kernelspec": {
   "display_name": "Python 3",
   "language": "python",
   "name": "python3"
  },
  "language_info": {
   "codemirror_mode": {
    "name": "ipython",
    "version": 3
   },
   "file_extension": ".py",
   "mimetype": "text/x-python",
   "name": "python",
   "nbconvert_exporter": "python",
   "pygments_lexer": "ipython3",
   "version": "3.8.5"
  }
 },
 "nbformat": 4,
 "nbformat_minor": 4
}
